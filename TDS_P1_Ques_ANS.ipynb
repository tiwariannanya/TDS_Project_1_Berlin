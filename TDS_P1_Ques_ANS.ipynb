{
 "cells": [
  {
   "cell_type": "code",
   "execution_count": 1,
   "metadata": {
    "id": "wKnf6iBec6Sr"
   },
   "outputs": [],
   "source": [
    "#users.csv\n",
    "import requests\n",
    "import csv\n",
    "\n",
    "# Replace with your personal access token\n",
    "GITHUB_TOKEN = ''\n",
    "HEADERS = {'Authorization': f'token {GITHUB_TOKEN}'}\n",
    "BASE_URL = 'https://api.github.com'\n",
    "\n",
    "def get_users_in_Berlin():\n",
    "    users = []\n",
    "    page = 1\n",
    "\n",
    "    while True:\n",
    "        response = requests.get(f'{BASE_URL}/search/users',\n",
    "                                headers=HEADERS,\n",
    "                                params={'q': 'location:Berlin followers:>200', 'page': page})\n",
    "        data = response.json()\n",
    "\n",
    "        if 'items' not in data or not data['items']:\n",
    "            break\n",
    "\n",
    "        for user in data['items']:\n",
    "            users.append(user['login'])\n",
    "\n",
    "        page += 1\n",
    "\n",
    "    return users\n",
    "\n",
    "def get_user_details(username):\n",
    "    response = requests.get(f'{BASE_URL}/users/{username}', headers=HEADERS)\n",
    "    return response.json()\n",
    "\n",
    "def clean_company(company):\n",
    "    if company:\n",
    "        return company.strip().lstrip('@').upper()\n",
    "    return None\n",
    "\n",
    "def main():\n",
    "    users = get_users_in_Berlin()\n",
    "    user_details = []\n",
    "\n",
    "    for user in users:\n",
    "        details = get_user_details(user)\n",
    "        user_details.append({\n",
    "            'login': details.get('login'),\n",
    "            'name': details.get('name'),\n",
    "            'company': clean_company(details.get('company')),\n",
    "            'location': details.get('location'),\n",
    "            'email': details.get('email'),\n",
    "            'hireable': details.get('hireable'),\n",
    "            'bio': details.get('bio'),\n",
    "            'public_repos': details.get('public_repos'),\n",
    "            'followers': details.get('followers'),\n",
    "            'following': details.get('following'),\n",
    "            'created_at': details.get('created_at'),\n",
    "        })\n",
    "\n",
    "    # Write to CSV\n",
    "    with open('users.csv', 'w', newline='', encoding='utf-8') as csvfile:\n",
    "        fieldnames = ['login', 'name', 'company', 'location', 'email',\n",
    "                      'hireable', 'bio', 'public_repos', 'followers',\n",
    "                      'following', 'created_at']\n",
    "        writer = csv.DictWriter(csvfile, fieldnames=fieldnames)\n",
    "        writer.writeheader()\n",
    "        for user in user_details:\n",
    "            writer.writerow(user)\n",
    "\n",
    "if __name__ == '__main__':\n",
    "    main()\n"
   ]
  },
  {
   "cell_type": "code",
   "execution_count": 1,
   "metadata": {
    "colab": {
     "base_uri": "https://localhost:8080/"
    },
    "id": "cuaQL_mZrBU1",
    "outputId": "da458140-f4fe-429f-d5a9-67447b62e4bd"
   },
   "outputs": [
    {
     "name": "stdout",
     "output_type": "stream",
     "text": [
      "Company names cleaned and saved to users.csv.\n"
     ]
    }
   ],
   "source": [
    "#more cleaned users.csv\n",
    "import pandas as pd\n",
    "\n",
    "# Load the data\n",
    "users_df = pd.read_csv('users.csv')\n",
    "\n",
    "# Clean the company names\n",
    "users_df['company'] = users_df['company'].str.strip()  # Trim whitespace\n",
    "users_df['company'] = users_df['company'].str.lstrip('@')  # Strip leading '@'\n",
    "users_df['company'] = users_df['company'].str.upper()  # Convert to uppercase\n",
    "\n",
    "# Save the cleaned DataFrame back to users.csv\n",
    "users_df.to_csv('users.csv', index=False)\n",
    "\n",
    "print(\"Company names cleaned and saved to users.csv.\")\n"
   ]
  },
  {
   "cell_type": "code",
   "execution_count": 3,
   "metadata": {
    "id": "iqENI4TufvGy"
   },
   "outputs": [
    {
     "ename": "KeyboardInterrupt",
     "evalue": "",
     "output_type": "error",
     "traceback": [
      "\u001b[1;31m---------------------------------------------------------------------------\u001b[0m",
      "\u001b[1;31mKeyboardInterrupt\u001b[0m                         Traceback (most recent call last)",
      "Cell \u001b[1;32mIn[3], line 70\u001b[0m\n\u001b[0;32m     67\u001b[0m             writer\u001b[38;5;241m.\u001b[39mwriterow(repo)\n\u001b[0;32m     69\u001b[0m \u001b[38;5;28;01mif\u001b[39;00m \u001b[38;5;18m__name__\u001b[39m \u001b[38;5;241m==\u001b[39m \u001b[38;5;124m'\u001b[39m\u001b[38;5;124m__main__\u001b[39m\u001b[38;5;124m'\u001b[39m:\n\u001b[1;32m---> 70\u001b[0m     \u001b[43mmain\u001b[49m\u001b[43m(\u001b[49m\u001b[43m)\u001b[49m\n",
      "Cell \u001b[1;32mIn[3], line 51\u001b[0m, in \u001b[0;36mmain\u001b[1;34m()\u001b[0m\n\u001b[0;32m     48\u001b[0m all_repos \u001b[38;5;241m=\u001b[39m []\n\u001b[0;32m     50\u001b[0m \u001b[38;5;28;01mfor\u001b[39;00m user \u001b[38;5;129;01min\u001b[39;00m users:\n\u001b[1;32m---> 51\u001b[0m     repos \u001b[38;5;241m=\u001b[39m \u001b[43mget_repositories\u001b[49m\u001b[43m(\u001b[49m\u001b[43muser\u001b[49m\u001b[43m)\u001b[49m\n\u001b[0;32m     52\u001b[0m     \u001b[38;5;28;01mfor\u001b[39;00m repo \u001b[38;5;129;01min\u001b[39;00m repos:\n\u001b[0;32m     53\u001b[0m         all_repos\u001b[38;5;241m.\u001b[39mappend({\n\u001b[0;32m     54\u001b[0m             \u001b[38;5;124m'\u001b[39m\u001b[38;5;124mlogin\u001b[39m\u001b[38;5;124m'\u001b[39m: user,\n\u001b[0;32m     55\u001b[0m             \u001b[38;5;241m*\u001b[39m\u001b[38;5;241m*\u001b[39mrepo\n\u001b[0;32m     56\u001b[0m         })\n",
      "Cell \u001b[1;32mIn[3], line 22\u001b[0m, in \u001b[0;36mget_repositories\u001b[1;34m(username)\u001b[0m\n\u001b[0;32m     20\u001b[0m page \u001b[38;5;241m=\u001b[39m \u001b[38;5;241m1\u001b[39m\n\u001b[0;32m     21\u001b[0m \u001b[38;5;28;01mwhile\u001b[39;00m \u001b[38;5;28;01mTrue\u001b[39;00m:\n\u001b[1;32m---> 22\u001b[0m     response \u001b[38;5;241m=\u001b[39m \u001b[43mrequests\u001b[49m\u001b[38;5;241;43m.\u001b[39;49m\u001b[43mget\u001b[49m\u001b[43m(\u001b[49m\u001b[38;5;124;43mf\u001b[39;49m\u001b[38;5;124;43m'\u001b[39;49m\u001b[38;5;132;43;01m{\u001b[39;49;00m\u001b[43mBASE_URL\u001b[49m\u001b[38;5;132;43;01m}\u001b[39;49;00m\u001b[38;5;124;43m/users/\u001b[39;49m\u001b[38;5;132;43;01m{\u001b[39;49;00m\u001b[43musername\u001b[49m\u001b[38;5;132;43;01m}\u001b[39;49;00m\u001b[38;5;124;43m/repos\u001b[39;49m\u001b[38;5;124;43m'\u001b[39;49m\u001b[43m,\u001b[49m\n\u001b[0;32m     23\u001b[0m \u001b[43m                            \u001b[49m\u001b[43mheaders\u001b[49m\u001b[38;5;241;43m=\u001b[39;49m\u001b[43mHEADERS\u001b[49m\u001b[43m,\u001b[49m\n\u001b[0;32m     24\u001b[0m \u001b[43m                            \u001b[49m\u001b[43mparams\u001b[49m\u001b[38;5;241;43m=\u001b[39;49m\u001b[43m{\u001b[49m\u001b[38;5;124;43m'\u001b[39;49m\u001b[38;5;124;43msort\u001b[39;49m\u001b[38;5;124;43m'\u001b[39;49m\u001b[43m:\u001b[49m\u001b[43m \u001b[49m\u001b[38;5;124;43m'\u001b[39;49m\u001b[38;5;124;43mpushed\u001b[39;49m\u001b[38;5;124;43m'\u001b[39;49m\u001b[43m,\u001b[49m\u001b[43m \u001b[49m\u001b[38;5;124;43m'\u001b[39;49m\u001b[38;5;124;43mdirection\u001b[39;49m\u001b[38;5;124;43m'\u001b[39;49m\u001b[43m:\u001b[49m\u001b[43m \u001b[49m\u001b[38;5;124;43m'\u001b[39;49m\u001b[38;5;124;43mdesc\u001b[39;49m\u001b[38;5;124;43m'\u001b[39;49m\u001b[43m,\u001b[49m\u001b[43m \u001b[49m\u001b[38;5;124;43m'\u001b[39;49m\u001b[38;5;124;43mper_page\u001b[39;49m\u001b[38;5;124;43m'\u001b[39;49m\u001b[43m:\u001b[49m\u001b[43m \u001b[49m\u001b[38;5;241;43m100\u001b[39;49m\u001b[43m,\u001b[49m\u001b[43m \u001b[49m\u001b[38;5;124;43m'\u001b[39;49m\u001b[38;5;124;43mpage\u001b[39;49m\u001b[38;5;124;43m'\u001b[39;49m\u001b[43m:\u001b[49m\u001b[43m \u001b[49m\u001b[43mpage\u001b[49m\u001b[43m}\u001b[49m\u001b[43m)\u001b[49m\n\u001b[0;32m     25\u001b[0m     data \u001b[38;5;241m=\u001b[39m response\u001b[38;5;241m.\u001b[39mjson()\n\u001b[0;32m     27\u001b[0m     \u001b[38;5;28;01mif\u001b[39;00m \u001b[38;5;129;01mnot\u001b[39;00m data \u001b[38;5;129;01mor\u001b[39;00m \u001b[38;5;28mlen\u001b[39m(repos) \u001b[38;5;241m>\u001b[39m\u001b[38;5;241m=\u001b[39m \u001b[38;5;241m500\u001b[39m:\n",
      "File \u001b[1;32m~\\AppData\\Local\\Packages\\PythonSoftwareFoundation.Python.3.11_qbz5n2kfra8p0\\LocalCache\\local-packages\\Python311\\site-packages\\requests\\api.py:73\u001b[0m, in \u001b[0;36mget\u001b[1;34m(url, params, **kwargs)\u001b[0m\n\u001b[0;32m     62\u001b[0m \u001b[38;5;28;01mdef\u001b[39;00m \u001b[38;5;21mget\u001b[39m(url, params\u001b[38;5;241m=\u001b[39m\u001b[38;5;28;01mNone\u001b[39;00m, \u001b[38;5;241m*\u001b[39m\u001b[38;5;241m*\u001b[39mkwargs):\n\u001b[0;32m     63\u001b[0m \u001b[38;5;250m    \u001b[39m\u001b[38;5;124mr\u001b[39m\u001b[38;5;124;03m\"\"\"Sends a GET request.\u001b[39;00m\n\u001b[0;32m     64\u001b[0m \n\u001b[0;32m     65\u001b[0m \u001b[38;5;124;03m    :param url: URL for the new :class:`Request` object.\u001b[39;00m\n\u001b[1;32m   (...)\u001b[0m\n\u001b[0;32m     70\u001b[0m \u001b[38;5;124;03m    :rtype: requests.Response\u001b[39;00m\n\u001b[0;32m     71\u001b[0m \u001b[38;5;124;03m    \"\"\"\u001b[39;00m\n\u001b[1;32m---> 73\u001b[0m     \u001b[38;5;28;01mreturn\u001b[39;00m \u001b[43mrequest\u001b[49m\u001b[43m(\u001b[49m\u001b[38;5;124;43m\"\u001b[39;49m\u001b[38;5;124;43mget\u001b[39;49m\u001b[38;5;124;43m\"\u001b[39;49m\u001b[43m,\u001b[49m\u001b[43m \u001b[49m\u001b[43murl\u001b[49m\u001b[43m,\u001b[49m\u001b[43m \u001b[49m\u001b[43mparams\u001b[49m\u001b[38;5;241;43m=\u001b[39;49m\u001b[43mparams\u001b[49m\u001b[43m,\u001b[49m\u001b[43m \u001b[49m\u001b[38;5;241;43m*\u001b[39;49m\u001b[38;5;241;43m*\u001b[39;49m\u001b[43mkwargs\u001b[49m\u001b[43m)\u001b[49m\n",
      "File \u001b[1;32m~\\AppData\\Local\\Packages\\PythonSoftwareFoundation.Python.3.11_qbz5n2kfra8p0\\LocalCache\\local-packages\\Python311\\site-packages\\requests\\api.py:59\u001b[0m, in \u001b[0;36mrequest\u001b[1;34m(method, url, **kwargs)\u001b[0m\n\u001b[0;32m     55\u001b[0m \u001b[38;5;66;03m# By using the 'with' statement we are sure the session is closed, thus we\u001b[39;00m\n\u001b[0;32m     56\u001b[0m \u001b[38;5;66;03m# avoid leaving sockets open which can trigger a ResourceWarning in some\u001b[39;00m\n\u001b[0;32m     57\u001b[0m \u001b[38;5;66;03m# cases, and look like a memory leak in others.\u001b[39;00m\n\u001b[0;32m     58\u001b[0m \u001b[38;5;28;01mwith\u001b[39;00m sessions\u001b[38;5;241m.\u001b[39mSession() \u001b[38;5;28;01mas\u001b[39;00m session:\n\u001b[1;32m---> 59\u001b[0m     \u001b[38;5;28;01mreturn\u001b[39;00m \u001b[43msession\u001b[49m\u001b[38;5;241;43m.\u001b[39;49m\u001b[43mrequest\u001b[49m\u001b[43m(\u001b[49m\u001b[43mmethod\u001b[49m\u001b[38;5;241;43m=\u001b[39;49m\u001b[43mmethod\u001b[49m\u001b[43m,\u001b[49m\u001b[43m \u001b[49m\u001b[43murl\u001b[49m\u001b[38;5;241;43m=\u001b[39;49m\u001b[43murl\u001b[49m\u001b[43m,\u001b[49m\u001b[43m \u001b[49m\u001b[38;5;241;43m*\u001b[39;49m\u001b[38;5;241;43m*\u001b[39;49m\u001b[43mkwargs\u001b[49m\u001b[43m)\u001b[49m\n",
      "File \u001b[1;32m~\\AppData\\Local\\Packages\\PythonSoftwareFoundation.Python.3.11_qbz5n2kfra8p0\\LocalCache\\local-packages\\Python311\\site-packages\\requests\\sessions.py:589\u001b[0m, in \u001b[0;36mSession.request\u001b[1;34m(self, method, url, params, data, headers, cookies, files, auth, timeout, allow_redirects, proxies, hooks, stream, verify, cert, json)\u001b[0m\n\u001b[0;32m    584\u001b[0m send_kwargs \u001b[38;5;241m=\u001b[39m {\n\u001b[0;32m    585\u001b[0m     \u001b[38;5;124m\"\u001b[39m\u001b[38;5;124mtimeout\u001b[39m\u001b[38;5;124m\"\u001b[39m: timeout,\n\u001b[0;32m    586\u001b[0m     \u001b[38;5;124m\"\u001b[39m\u001b[38;5;124mallow_redirects\u001b[39m\u001b[38;5;124m\"\u001b[39m: allow_redirects,\n\u001b[0;32m    587\u001b[0m }\n\u001b[0;32m    588\u001b[0m send_kwargs\u001b[38;5;241m.\u001b[39mupdate(settings)\n\u001b[1;32m--> 589\u001b[0m resp \u001b[38;5;241m=\u001b[39m \u001b[38;5;28;43mself\u001b[39;49m\u001b[38;5;241;43m.\u001b[39;49m\u001b[43msend\u001b[49m\u001b[43m(\u001b[49m\u001b[43mprep\u001b[49m\u001b[43m,\u001b[49m\u001b[43m \u001b[49m\u001b[38;5;241;43m*\u001b[39;49m\u001b[38;5;241;43m*\u001b[39;49m\u001b[43msend_kwargs\u001b[49m\u001b[43m)\u001b[49m\n\u001b[0;32m    591\u001b[0m \u001b[38;5;28;01mreturn\u001b[39;00m resp\n",
      "File \u001b[1;32m~\\AppData\\Local\\Packages\\PythonSoftwareFoundation.Python.3.11_qbz5n2kfra8p0\\LocalCache\\local-packages\\Python311\\site-packages\\requests\\sessions.py:703\u001b[0m, in \u001b[0;36mSession.send\u001b[1;34m(self, request, **kwargs)\u001b[0m\n\u001b[0;32m    700\u001b[0m start \u001b[38;5;241m=\u001b[39m preferred_clock()\n\u001b[0;32m    702\u001b[0m \u001b[38;5;66;03m# Send the request\u001b[39;00m\n\u001b[1;32m--> 703\u001b[0m r \u001b[38;5;241m=\u001b[39m \u001b[43madapter\u001b[49m\u001b[38;5;241;43m.\u001b[39;49m\u001b[43msend\u001b[49m\u001b[43m(\u001b[49m\u001b[43mrequest\u001b[49m\u001b[43m,\u001b[49m\u001b[43m \u001b[49m\u001b[38;5;241;43m*\u001b[39;49m\u001b[38;5;241;43m*\u001b[39;49m\u001b[43mkwargs\u001b[49m\u001b[43m)\u001b[49m\n\u001b[0;32m    705\u001b[0m \u001b[38;5;66;03m# Total elapsed time of the request (approximately)\u001b[39;00m\n\u001b[0;32m    706\u001b[0m elapsed \u001b[38;5;241m=\u001b[39m preferred_clock() \u001b[38;5;241m-\u001b[39m start\n",
      "File \u001b[1;32m~\\AppData\\Local\\Packages\\PythonSoftwareFoundation.Python.3.11_qbz5n2kfra8p0\\LocalCache\\local-packages\\Python311\\site-packages\\requests\\adapters.py:667\u001b[0m, in \u001b[0;36mHTTPAdapter.send\u001b[1;34m(self, request, stream, timeout, verify, cert, proxies)\u001b[0m\n\u001b[0;32m    664\u001b[0m     timeout \u001b[38;5;241m=\u001b[39m TimeoutSauce(connect\u001b[38;5;241m=\u001b[39mtimeout, read\u001b[38;5;241m=\u001b[39mtimeout)\n\u001b[0;32m    666\u001b[0m \u001b[38;5;28;01mtry\u001b[39;00m:\n\u001b[1;32m--> 667\u001b[0m     resp \u001b[38;5;241m=\u001b[39m \u001b[43mconn\u001b[49m\u001b[38;5;241;43m.\u001b[39;49m\u001b[43murlopen\u001b[49m\u001b[43m(\u001b[49m\n\u001b[0;32m    668\u001b[0m \u001b[43m        \u001b[49m\u001b[43mmethod\u001b[49m\u001b[38;5;241;43m=\u001b[39;49m\u001b[43mrequest\u001b[49m\u001b[38;5;241;43m.\u001b[39;49m\u001b[43mmethod\u001b[49m\u001b[43m,\u001b[49m\n\u001b[0;32m    669\u001b[0m \u001b[43m        \u001b[49m\u001b[43murl\u001b[49m\u001b[38;5;241;43m=\u001b[39;49m\u001b[43murl\u001b[49m\u001b[43m,\u001b[49m\n\u001b[0;32m    670\u001b[0m \u001b[43m        \u001b[49m\u001b[43mbody\u001b[49m\u001b[38;5;241;43m=\u001b[39;49m\u001b[43mrequest\u001b[49m\u001b[38;5;241;43m.\u001b[39;49m\u001b[43mbody\u001b[49m\u001b[43m,\u001b[49m\n\u001b[0;32m    671\u001b[0m \u001b[43m        \u001b[49m\u001b[43mheaders\u001b[49m\u001b[38;5;241;43m=\u001b[39;49m\u001b[43mrequest\u001b[49m\u001b[38;5;241;43m.\u001b[39;49m\u001b[43mheaders\u001b[49m\u001b[43m,\u001b[49m\n\u001b[0;32m    672\u001b[0m \u001b[43m        \u001b[49m\u001b[43mredirect\u001b[49m\u001b[38;5;241;43m=\u001b[39;49m\u001b[38;5;28;43;01mFalse\u001b[39;49;00m\u001b[43m,\u001b[49m\n\u001b[0;32m    673\u001b[0m \u001b[43m        \u001b[49m\u001b[43massert_same_host\u001b[49m\u001b[38;5;241;43m=\u001b[39;49m\u001b[38;5;28;43;01mFalse\u001b[39;49;00m\u001b[43m,\u001b[49m\n\u001b[0;32m    674\u001b[0m \u001b[43m        \u001b[49m\u001b[43mpreload_content\u001b[49m\u001b[38;5;241;43m=\u001b[39;49m\u001b[38;5;28;43;01mFalse\u001b[39;49;00m\u001b[43m,\u001b[49m\n\u001b[0;32m    675\u001b[0m \u001b[43m        \u001b[49m\u001b[43mdecode_content\u001b[49m\u001b[38;5;241;43m=\u001b[39;49m\u001b[38;5;28;43;01mFalse\u001b[39;49;00m\u001b[43m,\u001b[49m\n\u001b[0;32m    676\u001b[0m \u001b[43m        \u001b[49m\u001b[43mretries\u001b[49m\u001b[38;5;241;43m=\u001b[39;49m\u001b[38;5;28;43mself\u001b[39;49m\u001b[38;5;241;43m.\u001b[39;49m\u001b[43mmax_retries\u001b[49m\u001b[43m,\u001b[49m\n\u001b[0;32m    677\u001b[0m \u001b[43m        \u001b[49m\u001b[43mtimeout\u001b[49m\u001b[38;5;241;43m=\u001b[39;49m\u001b[43mtimeout\u001b[49m\u001b[43m,\u001b[49m\n\u001b[0;32m    678\u001b[0m \u001b[43m        \u001b[49m\u001b[43mchunked\u001b[49m\u001b[38;5;241;43m=\u001b[39;49m\u001b[43mchunked\u001b[49m\u001b[43m,\u001b[49m\n\u001b[0;32m    679\u001b[0m \u001b[43m    \u001b[49m\u001b[43m)\u001b[49m\n\u001b[0;32m    681\u001b[0m \u001b[38;5;28;01mexcept\u001b[39;00m (ProtocolError, \u001b[38;5;167;01mOSError\u001b[39;00m) \u001b[38;5;28;01mas\u001b[39;00m err:\n\u001b[0;32m    682\u001b[0m     \u001b[38;5;28;01mraise\u001b[39;00m \u001b[38;5;167;01mConnectionError\u001b[39;00m(err, request\u001b[38;5;241m=\u001b[39mrequest)\n",
      "File \u001b[1;32m~\\AppData\\Local\\Packages\\PythonSoftwareFoundation.Python.3.11_qbz5n2kfra8p0\\LocalCache\\local-packages\\Python311\\site-packages\\urllib3\\connectionpool.py:789\u001b[0m, in \u001b[0;36mHTTPConnectionPool.urlopen\u001b[1;34m(self, method, url, body, headers, retries, redirect, assert_same_host, timeout, pool_timeout, release_conn, chunked, body_pos, preload_content, decode_content, **response_kw)\u001b[0m\n\u001b[0;32m    786\u001b[0m response_conn \u001b[38;5;241m=\u001b[39m conn \u001b[38;5;28;01mif\u001b[39;00m \u001b[38;5;129;01mnot\u001b[39;00m release_conn \u001b[38;5;28;01melse\u001b[39;00m \u001b[38;5;28;01mNone\u001b[39;00m\n\u001b[0;32m    788\u001b[0m \u001b[38;5;66;03m# Make the request on the HTTPConnection object\u001b[39;00m\n\u001b[1;32m--> 789\u001b[0m response \u001b[38;5;241m=\u001b[39m \u001b[38;5;28;43mself\u001b[39;49m\u001b[38;5;241;43m.\u001b[39;49m\u001b[43m_make_request\u001b[49m\u001b[43m(\u001b[49m\n\u001b[0;32m    790\u001b[0m \u001b[43m    \u001b[49m\u001b[43mconn\u001b[49m\u001b[43m,\u001b[49m\n\u001b[0;32m    791\u001b[0m \u001b[43m    \u001b[49m\u001b[43mmethod\u001b[49m\u001b[43m,\u001b[49m\n\u001b[0;32m    792\u001b[0m \u001b[43m    \u001b[49m\u001b[43murl\u001b[49m\u001b[43m,\u001b[49m\n\u001b[0;32m    793\u001b[0m \u001b[43m    \u001b[49m\u001b[43mtimeout\u001b[49m\u001b[38;5;241;43m=\u001b[39;49m\u001b[43mtimeout_obj\u001b[49m\u001b[43m,\u001b[49m\n\u001b[0;32m    794\u001b[0m \u001b[43m    \u001b[49m\u001b[43mbody\u001b[49m\u001b[38;5;241;43m=\u001b[39;49m\u001b[43mbody\u001b[49m\u001b[43m,\u001b[49m\n\u001b[0;32m    795\u001b[0m \u001b[43m    \u001b[49m\u001b[43mheaders\u001b[49m\u001b[38;5;241;43m=\u001b[39;49m\u001b[43mheaders\u001b[49m\u001b[43m,\u001b[49m\n\u001b[0;32m    796\u001b[0m \u001b[43m    \u001b[49m\u001b[43mchunked\u001b[49m\u001b[38;5;241;43m=\u001b[39;49m\u001b[43mchunked\u001b[49m\u001b[43m,\u001b[49m\n\u001b[0;32m    797\u001b[0m \u001b[43m    \u001b[49m\u001b[43mretries\u001b[49m\u001b[38;5;241;43m=\u001b[39;49m\u001b[43mretries\u001b[49m\u001b[43m,\u001b[49m\n\u001b[0;32m    798\u001b[0m \u001b[43m    \u001b[49m\u001b[43mresponse_conn\u001b[49m\u001b[38;5;241;43m=\u001b[39;49m\u001b[43mresponse_conn\u001b[49m\u001b[43m,\u001b[49m\n\u001b[0;32m    799\u001b[0m \u001b[43m    \u001b[49m\u001b[43mpreload_content\u001b[49m\u001b[38;5;241;43m=\u001b[39;49m\u001b[43mpreload_content\u001b[49m\u001b[43m,\u001b[49m\n\u001b[0;32m    800\u001b[0m \u001b[43m    \u001b[49m\u001b[43mdecode_content\u001b[49m\u001b[38;5;241;43m=\u001b[39;49m\u001b[43mdecode_content\u001b[49m\u001b[43m,\u001b[49m\n\u001b[0;32m    801\u001b[0m \u001b[43m    \u001b[49m\u001b[38;5;241;43m*\u001b[39;49m\u001b[38;5;241;43m*\u001b[39;49m\u001b[43mresponse_kw\u001b[49m\u001b[43m,\u001b[49m\n\u001b[0;32m    802\u001b[0m \u001b[43m\u001b[49m\u001b[43m)\u001b[49m\n\u001b[0;32m    804\u001b[0m \u001b[38;5;66;03m# Everything went great!\u001b[39;00m\n\u001b[0;32m    805\u001b[0m clean_exit \u001b[38;5;241m=\u001b[39m \u001b[38;5;28;01mTrue\u001b[39;00m\n",
      "File \u001b[1;32m~\\AppData\\Local\\Packages\\PythonSoftwareFoundation.Python.3.11_qbz5n2kfra8p0\\LocalCache\\local-packages\\Python311\\site-packages\\urllib3\\connectionpool.py:536\u001b[0m, in \u001b[0;36mHTTPConnectionPool._make_request\u001b[1;34m(self, conn, method, url, body, headers, retries, timeout, chunked, response_conn, preload_content, decode_content, enforce_content_length)\u001b[0m\n\u001b[0;32m    534\u001b[0m \u001b[38;5;66;03m# Receive the response from the server\u001b[39;00m\n\u001b[0;32m    535\u001b[0m \u001b[38;5;28;01mtry\u001b[39;00m:\n\u001b[1;32m--> 536\u001b[0m     response \u001b[38;5;241m=\u001b[39m \u001b[43mconn\u001b[49m\u001b[38;5;241;43m.\u001b[39;49m\u001b[43mgetresponse\u001b[49m\u001b[43m(\u001b[49m\u001b[43m)\u001b[49m\n\u001b[0;32m    537\u001b[0m \u001b[38;5;28;01mexcept\u001b[39;00m (BaseSSLError, \u001b[38;5;167;01mOSError\u001b[39;00m) \u001b[38;5;28;01mas\u001b[39;00m e:\n\u001b[0;32m    538\u001b[0m     \u001b[38;5;28mself\u001b[39m\u001b[38;5;241m.\u001b[39m_raise_timeout(err\u001b[38;5;241m=\u001b[39me, url\u001b[38;5;241m=\u001b[39murl, timeout_value\u001b[38;5;241m=\u001b[39mread_timeout)\n",
      "File \u001b[1;32m~\\AppData\\Local\\Packages\\PythonSoftwareFoundation.Python.3.11_qbz5n2kfra8p0\\LocalCache\\local-packages\\Python311\\site-packages\\urllib3\\connection.py:507\u001b[0m, in \u001b[0;36mHTTPConnection.getresponse\u001b[1;34m(self)\u001b[0m\n\u001b[0;32m    504\u001b[0m \u001b[38;5;28;01mfrom\u001b[39;00m \u001b[38;5;21;01m.\u001b[39;00m\u001b[38;5;21;01mresponse\u001b[39;00m \u001b[38;5;28;01mimport\u001b[39;00m HTTPResponse\n\u001b[0;32m    506\u001b[0m \u001b[38;5;66;03m# Get the response from http.client.HTTPConnection\u001b[39;00m\n\u001b[1;32m--> 507\u001b[0m httplib_response \u001b[38;5;241m=\u001b[39m \u001b[38;5;28;43msuper\u001b[39;49m\u001b[43m(\u001b[49m\u001b[43m)\u001b[49m\u001b[38;5;241;43m.\u001b[39;49m\u001b[43mgetresponse\u001b[49m\u001b[43m(\u001b[49m\u001b[43m)\u001b[49m\n\u001b[0;32m    509\u001b[0m \u001b[38;5;28;01mtry\u001b[39;00m:\n\u001b[0;32m    510\u001b[0m     assert_header_parsing(httplib_response\u001b[38;5;241m.\u001b[39mmsg)\n",
      "File \u001b[1;32mC:\\Program Files\\WindowsApps\\PythonSoftwareFoundation.Python.3.11_3.11.2544.0_x64__qbz5n2kfra8p0\\Lib\\http\\client.py:1395\u001b[0m, in \u001b[0;36mHTTPConnection.getresponse\u001b[1;34m(self)\u001b[0m\n\u001b[0;32m   1393\u001b[0m \u001b[38;5;28;01mtry\u001b[39;00m:\n\u001b[0;32m   1394\u001b[0m     \u001b[38;5;28;01mtry\u001b[39;00m:\n\u001b[1;32m-> 1395\u001b[0m         \u001b[43mresponse\u001b[49m\u001b[38;5;241;43m.\u001b[39;49m\u001b[43mbegin\u001b[49m\u001b[43m(\u001b[49m\u001b[43m)\u001b[49m\n\u001b[0;32m   1396\u001b[0m     \u001b[38;5;28;01mexcept\u001b[39;00m \u001b[38;5;167;01mConnectionError\u001b[39;00m:\n\u001b[0;32m   1397\u001b[0m         \u001b[38;5;28mself\u001b[39m\u001b[38;5;241m.\u001b[39mclose()\n",
      "File \u001b[1;32mC:\\Program Files\\WindowsApps\\PythonSoftwareFoundation.Python.3.11_3.11.2544.0_x64__qbz5n2kfra8p0\\Lib\\http\\client.py:325\u001b[0m, in \u001b[0;36mHTTPResponse.begin\u001b[1;34m(self)\u001b[0m\n\u001b[0;32m    323\u001b[0m \u001b[38;5;66;03m# read until we get a non-100 response\u001b[39;00m\n\u001b[0;32m    324\u001b[0m \u001b[38;5;28;01mwhile\u001b[39;00m \u001b[38;5;28;01mTrue\u001b[39;00m:\n\u001b[1;32m--> 325\u001b[0m     version, status, reason \u001b[38;5;241m=\u001b[39m \u001b[38;5;28;43mself\u001b[39;49m\u001b[38;5;241;43m.\u001b[39;49m\u001b[43m_read_status\u001b[49m\u001b[43m(\u001b[49m\u001b[43m)\u001b[49m\n\u001b[0;32m    326\u001b[0m     \u001b[38;5;28;01mif\u001b[39;00m status \u001b[38;5;241m!=\u001b[39m CONTINUE:\n\u001b[0;32m    327\u001b[0m         \u001b[38;5;28;01mbreak\u001b[39;00m\n",
      "File \u001b[1;32mC:\\Program Files\\WindowsApps\\PythonSoftwareFoundation.Python.3.11_3.11.2544.0_x64__qbz5n2kfra8p0\\Lib\\http\\client.py:286\u001b[0m, in \u001b[0;36mHTTPResponse._read_status\u001b[1;34m(self)\u001b[0m\n\u001b[0;32m    285\u001b[0m \u001b[38;5;28;01mdef\u001b[39;00m \u001b[38;5;21m_read_status\u001b[39m(\u001b[38;5;28mself\u001b[39m):\n\u001b[1;32m--> 286\u001b[0m     line \u001b[38;5;241m=\u001b[39m \u001b[38;5;28mstr\u001b[39m(\u001b[38;5;28mself\u001b[39m\u001b[38;5;241m.\u001b[39mfp\u001b[38;5;241m.\u001b[39mreadline(_MAXLINE \u001b[38;5;241m+\u001b[39m \u001b[38;5;241m1\u001b[39m), \u001b[38;5;124m\"\u001b[39m\u001b[38;5;124miso-8859-1\u001b[39m\u001b[38;5;124m\"\u001b[39m)\n\u001b[0;32m    287\u001b[0m     \u001b[38;5;28;01mif\u001b[39;00m \u001b[38;5;28mlen\u001b[39m(line) \u001b[38;5;241m>\u001b[39m _MAXLINE:\n\u001b[0;32m    288\u001b[0m         \u001b[38;5;28;01mraise\u001b[39;00m LineTooLong(\u001b[38;5;124m\"\u001b[39m\u001b[38;5;124mstatus line\u001b[39m\u001b[38;5;124m\"\u001b[39m)\n",
      "File \u001b[1;32mC:\\Program Files\\WindowsApps\\PythonSoftwareFoundation.Python.3.11_3.11.2544.0_x64__qbz5n2kfra8p0\\Lib\\socket.py:706\u001b[0m, in \u001b[0;36mSocketIO.readinto\u001b[1;34m(self, b)\u001b[0m\n\u001b[0;32m    704\u001b[0m \u001b[38;5;28;01mwhile\u001b[39;00m \u001b[38;5;28;01mTrue\u001b[39;00m:\n\u001b[0;32m    705\u001b[0m     \u001b[38;5;28;01mtry\u001b[39;00m:\n\u001b[1;32m--> 706\u001b[0m         \u001b[38;5;28;01mreturn\u001b[39;00m \u001b[38;5;28;43mself\u001b[39;49m\u001b[38;5;241;43m.\u001b[39;49m\u001b[43m_sock\u001b[49m\u001b[38;5;241;43m.\u001b[39;49m\u001b[43mrecv_into\u001b[49m\u001b[43m(\u001b[49m\u001b[43mb\u001b[49m\u001b[43m)\u001b[49m\n\u001b[0;32m    707\u001b[0m     \u001b[38;5;28;01mexcept\u001b[39;00m timeout:\n\u001b[0;32m    708\u001b[0m         \u001b[38;5;28mself\u001b[39m\u001b[38;5;241m.\u001b[39m_timeout_occurred \u001b[38;5;241m=\u001b[39m \u001b[38;5;28;01mTrue\u001b[39;00m\n",
      "File \u001b[1;32mC:\\Program Files\\WindowsApps\\PythonSoftwareFoundation.Python.3.11_3.11.2544.0_x64__qbz5n2kfra8p0\\Lib\\ssl.py:1314\u001b[0m, in \u001b[0;36mSSLSocket.recv_into\u001b[1;34m(self, buffer, nbytes, flags)\u001b[0m\n\u001b[0;32m   1310\u001b[0m     \u001b[38;5;28;01mif\u001b[39;00m flags \u001b[38;5;241m!=\u001b[39m \u001b[38;5;241m0\u001b[39m:\n\u001b[0;32m   1311\u001b[0m         \u001b[38;5;28;01mraise\u001b[39;00m \u001b[38;5;167;01mValueError\u001b[39;00m(\n\u001b[0;32m   1312\u001b[0m           \u001b[38;5;124m\"\u001b[39m\u001b[38;5;124mnon-zero flags not allowed in calls to recv_into() on \u001b[39m\u001b[38;5;132;01m%s\u001b[39;00m\u001b[38;5;124m\"\u001b[39m \u001b[38;5;241m%\u001b[39m\n\u001b[0;32m   1313\u001b[0m           \u001b[38;5;28mself\u001b[39m\u001b[38;5;241m.\u001b[39m\u001b[38;5;18m__class__\u001b[39m)\n\u001b[1;32m-> 1314\u001b[0m     \u001b[38;5;28;01mreturn\u001b[39;00m \u001b[38;5;28;43mself\u001b[39;49m\u001b[38;5;241;43m.\u001b[39;49m\u001b[43mread\u001b[49m\u001b[43m(\u001b[49m\u001b[43mnbytes\u001b[49m\u001b[43m,\u001b[49m\u001b[43m \u001b[49m\u001b[43mbuffer\u001b[49m\u001b[43m)\u001b[49m\n\u001b[0;32m   1315\u001b[0m \u001b[38;5;28;01melse\u001b[39;00m:\n\u001b[0;32m   1316\u001b[0m     \u001b[38;5;28;01mreturn\u001b[39;00m \u001b[38;5;28msuper\u001b[39m()\u001b[38;5;241m.\u001b[39mrecv_into(buffer, nbytes, flags)\n",
      "File \u001b[1;32mC:\\Program Files\\WindowsApps\\PythonSoftwareFoundation.Python.3.11_3.11.2544.0_x64__qbz5n2kfra8p0\\Lib\\ssl.py:1166\u001b[0m, in \u001b[0;36mSSLSocket.read\u001b[1;34m(self, len, buffer)\u001b[0m\n\u001b[0;32m   1164\u001b[0m \u001b[38;5;28;01mtry\u001b[39;00m:\n\u001b[0;32m   1165\u001b[0m     \u001b[38;5;28;01mif\u001b[39;00m buffer \u001b[38;5;129;01mis\u001b[39;00m \u001b[38;5;129;01mnot\u001b[39;00m \u001b[38;5;28;01mNone\u001b[39;00m:\n\u001b[1;32m-> 1166\u001b[0m         \u001b[38;5;28;01mreturn\u001b[39;00m \u001b[38;5;28;43mself\u001b[39;49m\u001b[38;5;241;43m.\u001b[39;49m\u001b[43m_sslobj\u001b[49m\u001b[38;5;241;43m.\u001b[39;49m\u001b[43mread\u001b[49m\u001b[43m(\u001b[49m\u001b[38;5;28;43mlen\u001b[39;49m\u001b[43m,\u001b[49m\u001b[43m \u001b[49m\u001b[43mbuffer\u001b[49m\u001b[43m)\u001b[49m\n\u001b[0;32m   1167\u001b[0m     \u001b[38;5;28;01melse\u001b[39;00m:\n\u001b[0;32m   1168\u001b[0m         \u001b[38;5;28;01mreturn\u001b[39;00m \u001b[38;5;28mself\u001b[39m\u001b[38;5;241m.\u001b[39m_sslobj\u001b[38;5;241m.\u001b[39mread(\u001b[38;5;28mlen\u001b[39m)\n",
      "\u001b[1;31mKeyboardInterrupt\u001b[0m: "
     ]
    }
   ],
   "source": [
    "#repositories.csv\n",
    "import requests\n",
    "import csv\n",
    "\n",
    "# Replace with your personal access token\n",
    "GITHUB_TOKEN = ''\n",
    "HEADERS = {'Authorization': f'token {GITHUB_TOKEN}'}\n",
    "BASE_URL = 'https://api.github.com'\n",
    "\n",
    "def read_users_from_csv(file_path):\n",
    "    users = []\n",
    "    with open(file_path, 'r', encoding='utf-8') as csvfile:\n",
    "        reader = csv.DictReader(csvfile)\n",
    "        for row in reader:\n",
    "            users.append(row['login'])\n",
    "    return users\n",
    "\n",
    "def get_repositories(username):\n",
    "    repos = []\n",
    "    page = 1\n",
    "    while True:\n",
    "        response = requests.get(f'{BASE_URL}/users/{username}/repos',\n",
    "                                headers=HEADERS,\n",
    "                                params={'sort': 'pushed', 'direction': 'desc', 'per_page': 100, 'page': page})\n",
    "        data = response.json()\n",
    "\n",
    "        if not data or len(repos) >= 500:\n",
    "            break\n",
    "\n",
    "        for repo in data:\n",
    "            repos.append({\n",
    "                'full_name': repo['full_name'],\n",
    "                'created_at': repo['created_at'],\n",
    "                'stargazers_count': repo['stargazers_count'],\n",
    "                'watchers_count': repo['watchers_count'],\n",
    "                'language': repo['language'],\n",
    "                'has_projects': repo['has_projects'],\n",
    "                'has_wiki': repo['has_wiki'],\n",
    "                'license_name': repo['license']['key'] if repo.get('license') else None  # Safely fetch license key\n",
    "            })\n",
    "\n",
    "        page += 1\n",
    "\n",
    "    return repos[:500]  # Return up to 500 repos\n",
    "\n",
    "def main():\n",
    "    users = read_users_from_csv('users.csv')\n",
    "    all_repos = []\n",
    "\n",
    "    for user in users:\n",
    "        repos = get_repositories(user)\n",
    "        for repo in repos:\n",
    "            all_repos.append({\n",
    "                'login': user,\n",
    "                **repo\n",
    "            })\n",
    "\n",
    "    # Write to CSV\n",
    "    with open('repositories.csv', 'w', newline='', encoding='utf-8') as csvfile:\n",
    "        fieldnames = ['login', 'full_name', 'created_at',\n",
    "                      'stargazers_count', 'watchers_count',\n",
    "                      'language', 'has_projects',\n",
    "                      'has_wiki', 'license_name']\n",
    "        writer = csv.DictWriter(csvfile, fieldnames=fieldnames)\n",
    "        writer.writeheader()\n",
    "        for repo in all_repos:\n",
    "            writer.writerow(repo)\n",
    "\n",
    "if __name__ == '__main__':\n",
    "    main()\n"
   ]
  },
  {
   "cell_type": "code",
   "execution_count": 11,
   "metadata": {
    "colab": {
     "base_uri": "https://localhost:8080/"
    },
    "id": "X7CkS3Zam87L",
    "outputId": "129e0987-13e1-4ca3-cd80-64c290e3683d"
   },
   "outputs": [
    {
     "name": "stdout",
     "output_type": "stream",
     "text": [
      "tiangolo, schacon, rwieruch, shuding, android10\n"
     ]
    }
   ],
   "source": [
    "#Q1\n",
    "import pandas as pd\n",
    "\n",
    "# Load the data\n",
    "users_df = pd.read_csv('users.csv')\n",
    "\n",
    "# Sort by followers and get top 5\n",
    "top_users = users_df.sort_values(by='followers', ascending=False).head(5)\n",
    "\n",
    "# Extract logins\n",
    "top_logins = top_users['login'].tolist()\n",
    "result = ', '.join(top_logins)\n",
    "\n",
    "print(result)\n"
   ]
  },
  {
   "cell_type": "code",
   "execution_count": 12,
   "metadata": {
    "colab": {
     "base_uri": "https://localhost:8080/"
    },
    "id": "jVT8tVpipe8W",
    "outputId": "626f4368-cf8c-464f-ce8c-a2ecf07a35cb"
   },
   "outputs": [
    {
     "name": "stdout",
     "output_type": "stream",
     "text": [
      "schacon, adamwiggins, myobie, lstoll, znarf\n"
     ]
    }
   ],
   "source": [
    "#Q2\n",
    "import pandas as pd\n",
    "\n",
    "# Load the data\n",
    "users_df = pd.read_csv('users.csv')\n",
    "\n",
    "# Convert created_at to datetime\n",
    "users_df['created_at'] = pd.to_datetime(users_df['created_at'])\n",
    "\n",
    "# Sort by created_at and get the earliest 5 users\n",
    "earliest_users = users_df.sort_values(by='created_at').head(5)\n",
    "\n",
    "# Extract logins\n",
    "earliest_logins = earliest_users['login'].tolist()\n",
    "result = ', '.join(earliest_logins)\n",
    "\n",
    "print(result)\n"
   ]
  },
  {
   "cell_type": "code",
   "execution_count": 32,
   "metadata": {
    "colab": {
     "base_uri": "https://localhost:8080/"
    },
    "id": "0v3-8fq7p5qY",
    "outputId": "566ade50-0e3b-4cc4-e570-31d281a99e09"
   },
   "outputs": [
    {
     "name": "stdout",
     "output_type": "stream",
     "text": [
      "MIT License, Apache License 2.0, Other\n"
     ]
    }
   ],
   "source": [
    "#Q3\n",
    "import pandas as pd\n",
    "\n",
    "# Load the data\n",
    "repositories_df = pd.read_csv('repositories.csv')\n",
    "\n",
    "# Filter out missing license names\n",
    "repositories_df = repositories_df[repositories_df['license_name'].notna()]\n",
    "\n",
    "# Count occurrences of each license\n",
    "license_counts = repositories_df['license_name'].value_counts()\n",
    "\n",
    "# Get the top 3 licenses\n",
    "top_licenses = license_counts.head(3).index.tolist()\n",
    "\n",
    "# Join the license names in order\n",
    "result = ', '.join(top_licenses)\n",
    "\n",
    "print(result)\n"
   ]
  },
  {
   "cell_type": "code",
   "execution_count": 7,
   "metadata": {
    "colab": {
     "base_uri": "https://localhost:8080/"
    },
    "id": "zPFLL9pdrI7h",
    "outputId": "7642a0a3-b67f-4e06-b467-9973c3e0e2be"
   },
   "outputs": [
    {
     "name": "stdout",
     "output_type": "stream",
     "text": [
      "The majority of developers work at: MICROSOFT with 8 developers.\n"
     ]
    }
   ],
   "source": [
    "#Q4\n",
    "import pandas as pd\n",
    "\n",
    "# Load the data\n",
    "users_df = pd.read_csv('users.csv')\n",
    "\n",
    "# Count occurrences of each company\n",
    "company_counts = users_df['company'].value_counts()\n",
    "\n",
    "# Get the company with the highest count\n",
    "most_common_company = company_counts.idxmax()\n",
    "most_common_count = company_counts.max()\n",
    "\n",
    "print(f\"The majority of developers work at: {most_common_company} with {most_common_count} developers.\")\n"
   ]
  },
  {
   "cell_type": "code",
   "execution_count": 8,
   "metadata": {
    "colab": {
     "base_uri": "https://localhost:8080/"
    },
    "id": "tUbmeG3KrTqI",
    "outputId": "86c9fe8b-1451-4f41-818b-8ce5f4d9b6a1"
   },
   "outputs": [
    {
     "name": "stdout",
     "output_type": "stream",
     "text": [
      "The most popular programming language is: JavaScript with 6430 repositories.\n"
     ]
    }
   ],
   "source": [
    "#Q5\n",
    "import pandas as pd\n",
    "\n",
    "# Load the data\n",
    "repositories_df = pd.read_csv('repositories.csv')\n",
    "\n",
    "# Count occurrences of each programming language, ignoring missing values\n",
    "language_counts = repositories_df['language'].value_counts()\n",
    "\n",
    "# Get the most popular programming language\n",
    "most_popular_language = language_counts.idxmax()\n",
    "most_popular_count = language_counts.max()\n",
    "\n",
    "print(f\"The most popular programming language is: {most_popular_language} with {most_popular_count} repositories.\")\n"
   ]
  },
  {
   "cell_type": "code",
   "execution_count": 9,
   "metadata": {
    "colab": {
     "base_uri": "https://localhost:8080/"
    },
    "id": "7JUqfwgare6t",
    "outputId": "8c559432-7e25-4bf0-ede5-4a5a3928ea83"
   },
   "outputs": [
    {
     "name": "stdout",
     "output_type": "stream",
     "text": [
      "The second most popular programming language among users who joined after 2020 is: JavaScript with 89 repositories.\n"
     ]
    }
   ],
   "source": [
    "#Q6\n",
    "import pandas as pd\n",
    "\n",
    "# Load the data\n",
    "users_df = pd.read_csv('users.csv')\n",
    "repositories_df = pd.read_csv('repositories.csv')\n",
    "\n",
    "# Convert created_at to datetime and filter users who joined after 2020\n",
    "users_df['created_at'] = pd.to_datetime(users_df['created_at'])\n",
    "recent_users = users_df[users_df['created_at'] > '2020-01-01']\n",
    "\n",
    "# Get the logins of recent users\n",
    "recent_user_logins = recent_users['login'].tolist()\n",
    "\n",
    "# Filter repositories by these users\n",
    "recent_repositories = repositories_df[repositories_df['login'].isin(recent_user_logins)]\n",
    "\n",
    "# Count occurrences of each programming language\n",
    "language_counts = recent_repositories['language'].value_counts()\n",
    "\n",
    "# Get the second most popular programming language\n",
    "second_most_popular_language = language_counts.nlargest(2).index[1]\n",
    "second_most_popular_count = language_counts.nlargest(2).values[1]\n",
    "\n",
    "print(f\"The second most popular programming language among users who joined after 2020 is: {second_most_popular_language} with {second_most_popular_count} repositories.\")\n"
   ]
  },
  {
   "cell_type": "code",
   "execution_count": 14,
   "metadata": {
    "colab": {
     "base_uri": "https://localhost:8080/"
    },
    "id": "aowu8SiZrp_P",
    "outputId": "96f13809-5ba9-4cd4-df6f-766b81761421"
   },
   "outputs": [
    {
     "name": "stdout",
     "output_type": "stream",
     "text": [
      "The programming language with the highest average number of stars per repository is: Fluent with an average of 12958.00 stars.\n"
     ]
    }
   ],
   "source": [
    "#Q7\n",
    "import pandas as pd\n",
    "\n",
    "# Load the data\n",
    "repositories_df = pd.read_csv('repositories.csv')\n",
    "\n",
    "# Group by programming language and calculate the average stars\n",
    "average_stars = repositories_df.groupby('language')['stargazers_count'].mean()\n",
    "\n",
    "# Identify the language with the highest average stars\n",
    "highest_average_language = average_stars.idxmax()\n",
    "highest_average_value = average_stars.max()\n",
    "\n",
    "print(f\"The programming language with the highest average number of stars per repository is: {highest_average_language} with an average of {highest_average_value:.2f} stars.\")\n"
   ]
  },
  {
   "cell_type": "code",
   "execution_count": 15,
   "metadata": {
    "colab": {
     "base_uri": "https://localhost:8080/"
    },
    "id": "Oy6f8ZBcr4xS",
    "outputId": "07e4650b-2f6a-46ac-c3a3-a2fe8d3e830a"
   },
   "outputs": [
    {
     "name": "stdout",
     "output_type": "stream",
     "text": [
      "tiangolo, marijnh, vakila, alexeygrigorev, lewagon\n"
     ]
    }
   ],
   "source": [
    "#Q8\n",
    "import pandas as pd\n",
    "\n",
    "# Load the data\n",
    "users_df = pd.read_csv('users.csv')\n",
    "\n",
    "# Calculate leader_strength\n",
    "users_df['leader_strength'] = users_df['followers'] / (1 + users_df['following'])\n",
    "\n",
    "# Sort by leader_strength and get the top 5\n",
    "top_leaders = users_df.sort_values(by='leader_strength', ascending=False).head(5)\n",
    "\n",
    "# Extract logins\n",
    "top_logins = top_leaders['login'].tolist()\n",
    "result = ', '.join(top_logins)\n",
    "\n",
    "print(result)\n"
   ]
  },
  {
   "cell_type": "code",
   "execution_count": 16,
   "metadata": {
    "colab": {
     "base_uri": "https://localhost:8080/"
    },
    "id": "b17bFXSwsSsP",
    "outputId": "07c71fae-3422-4b44-cf6a-37723ed0cc97"
   },
   "outputs": [
    {
     "name": "stdout",
     "output_type": "stream",
     "text": [
      "The correlation between the number of followers and the number of public repositories is: 0.017\n"
     ]
    }
   ],
   "source": [
    "#Q9\n",
    "import pandas as pd\n",
    "\n",
    "# Load the data\n",
    "users_df = pd.read_csv('users.csv')\n",
    "\n",
    "# Calculate the correlation between followers and public repositories\n",
    "correlation = users_df['followers'].corr(users_df['public_repos'])\n",
    "\n",
    "print(f\"The correlation between the number of followers and the number of public repositories is: {correlation:.3f}\")\n"
   ]
  },
  {
   "cell_type": "code",
   "execution_count": 18,
   "metadata": {
    "colab": {
     "base_uri": "https://localhost:8080/"
    },
    "id": "1kT3YZzPsoBw",
    "outputId": "86b62195-b5ce-4221-d36f-771648a4f7eb"
   },
   "outputs": [
    {
     "name": "stdout",
     "output_type": "stream",
     "text": [
      "Regression Results:\n",
      "                            OLS Regression Results                            \n",
      "==============================================================================\n",
      "Dep. Variable:              followers   R-squared:                       0.000\n",
      "Model:                            OLS   Adj. R-squared:                 -0.001\n",
      "Method:                 Least Squares   F-statistic:                    0.1690\n",
      "Date:                Thu, 31 Oct 2024   Prob (F-statistic):              0.681\n",
      "Time:                        21:49:32   Log-Likelihood:                -5264.0\n",
      "No. Observations:                 602   AIC:                         1.053e+04\n",
      "Df Residuals:                     600   BIC:                         1.054e+04\n",
      "Df Model:                           1                                         \n",
      "Covariance Type:            nonrobust                                         \n",
      "================================================================================\n",
      "                   coef    std err          t      P>|t|      [0.025      0.975]\n",
      "--------------------------------------------------------------------------------\n",
      "const          735.7451     93.208      7.894      0.000     552.691     918.799\n",
      "public_repos     0.2838      0.690      0.411      0.681      -1.072       1.640\n",
      "==============================================================================\n",
      "Omnibus:                     1009.771   Durbin-Watson:                   0.141\n",
      "Prob(Omnibus):                  0.000   Jarque-Bera (JB):           547257.306\n",
      "Skew:                          10.131   Prob(JB):                         0.00\n",
      "Kurtosis:                     149.311   Cond. No.                         203.\n",
      "==============================================================================\n",
      "\n",
      "Notes:\n",
      "[1] Standard Errors assume that the covariance matrix of the errors is correctly specified.\n",
      "Estimated additional followers per additional public repository: 0.284\n"
     ]
    }
   ],
   "source": [
    "#Q10\n",
    "import pandas as pd\n",
    "import statsmodels.api as sm\n",
    "\n",
    "# Load the data\n",
    "users_df = pd.read_csv('users.csv')\n",
    "\n",
    "# Define the independent variable (X) and dependent variable (Y)\n",
    "X = users_df['public_repos']\n",
    "Y = users_df['followers']\n",
    "\n",
    "# Add a constant to the independent variable (for the intercept)\n",
    "X = sm.add_constant(X)\n",
    "\n",
    "# Fit the regression model\n",
    "model = sm.OLS(Y, X).fit()\n",
    "\n",
    "# Get the summary of the regression results\n",
    "summary = model.summary()\n",
    "\n",
    "# Extract the coefficient for public_repos\n",
    "additional_followers_per_repo = model.params['public_repos']\n",
    "\n",
    "print(f\"Regression Results:\\n{summary}\")\n",
    "print(f\"Estimated additional followers per additional public repository: {additional_followers_per_repo:.3f}\")\n"
   ]
  },
  {
   "cell_type": "code",
   "execution_count": 33,
   "metadata": {},
   "outputs": [
    {
     "name": "stdout",
     "output_type": "stream",
     "text": [
      "MIT License, Apache License 2.0, Other\n"
     ]
    }
   ],
   "source": [
    "#Q3\n",
    "import pandas as pd\n",
    "\n",
    "# Load the data\n",
    "repositories_df = pd.read_csv('repositories.csv')\n",
    "\n",
    "# Filter out missing license names\n",
    "repositories_df = repositories_df[repositories_df['license_name'].notna()]\n",
    "\n",
    "# Count occurrences of each license\n",
    "license_counts = repositories_df['license_name'].value_counts()\n",
    "\n",
    "# Get the top 3 licenses\n",
    "top_licenses = license_counts.head(3).index.tolist()\n",
    "\n",
    "# Join the license names in order\n",
    "result = ', '.join(top_licenses)\n",
    "\n",
    "print(result)\n"
   ]
  },
  {
   "cell_type": "code",
   "execution_count": 34,
   "metadata": {
    "colab": {
     "base_uri": "https://localhost:8080/"
    },
    "id": "2_QxL3kys-_z",
    "outputId": "7db2d2fa-e64f-47b4-cb97-fbdbafd6c4dc"
   },
   "outputs": [
    {
     "name": "stdout",
     "output_type": "stream",
     "text": [
      "The correlation between having projects enabled and having a wiki enabled is: 0.405\n"
     ]
    }
   ],
   "source": [
    "#Q11\n",
    "import pandas as pd\n",
    "\n",
    "# Load the data\n",
    "repositories_df = pd.read_csv('repositories.csv')\n",
    "\n",
    "\n",
    "# Calculate the correlation directly\n",
    "correlation = repositories_df['has_projects'].astype(int).corr(repositories_df['has_wiki'].astype(int))\n",
    "\n",
    "print(f\"The correlation between having projects enabled and having a wiki enabled is: {correlation:.3f}\")\n"
   ]
  },
  {
   "cell_type": "code",
   "execution_count": 38,
   "metadata": {
    "colab": {
     "base_uri": "https://localhost:8080/"
    },
    "id": "v0D_j97ouhM_",
    "outputId": "bac257b1-8ff5-4339-bf4a-3f15ba613b58"
   },
   "outputs": [
    {
     "name": "stdout",
     "output_type": "stream",
     "text": [
      "Difference in average following (hireable - non-hireable): 47.024\n"
     ]
    }
   ],
   "source": [
    "#Q12\n",
    "import pandas as pd\n",
    "\n",
    "# Load the users data from the CSV file\n",
    "users_df = pd.read_csv('users.csv')\n",
    "\n",
    "# Filter hireable and non-hireable users\n",
    "hireable_users = users_df[users_df['hireable'] == True]\n",
    "non_hireable_users = users_df[users_df['hireable'].isna() | (users_df['hireable'] == False)]\n",
    "\n",
    "# Calculate average following for both groups\n",
    "average_hireable_following = hireable_users['following'].mean()\n",
    "average_non_hireable_following = non_hireable_users['following'].mean()\n",
    "\n",
    "# Calculate the difference\n",
    "difference = average_hireable_following - average_non_hireable_following\n",
    "\n",
    "# Print the result rounded to three decimal places\n",
    "print(f'Difference in average following (hireable - non-hireable): {difference:.3f}')\n"
   ]
  },
  {
   "cell_type": "code",
   "execution_count": 31,
   "metadata": {
    "colab": {
     "base_uri": "https://localhost:8080/"
    },
    "id": "t86gGTj6uhLn",
    "outputId": "fc4feb15-bb71-4256-abaa-e61f46afbb10"
   },
   "outputs": [
    {
     "name": "stdout",
     "output_type": "stream",
     "text": [
      "Regression slope of followers on bio word count: 28.449\n"
     ]
    },
    {
     "name": "stderr",
     "output_type": "stream",
     "text": [
      "C:\\Users\\ABC\\AppData\\Local\\Temp\\ipykernel_1848\\1755056196.py:14: SettingWithCopyWarning: \n",
      "A value is trying to be set on a copy of a slice from a DataFrame.\n",
      "Try using .loc[row_indexer,col_indexer] = value instead\n",
      "\n",
      "See the caveats in the documentation: https://pandas.pydata.org/pandas-docs/stable/user_guide/indexing.html#returning-a-view-versus-a-copy\n",
      "  users_with_bios['bio_word_count'] = users_with_bios['bio'].apply(lambda x: len(x.split()))\n"
     ]
    }
   ],
   "source": [
    "#Q13\n",
    "import pandas as pd\n",
    "import statsmodels.api as sm\n",
    "\n",
    "# Load the users data from the CSV file\n",
    "users_df = pd.read_csv('users.csv')\n",
    "\n",
    "# Filter out users without bios\n",
    "users_with_bios = users_df[users_df['bio'].notna()]\n",
    "\n",
    "# Calculate the length of the bio in words\n",
    "#users_with_bios['bio_word_count'] = users_with_bios['bio'].str.split(\" \").str.len()\n",
    "\n",
    "users_with_bios['bio_word_count'] = users_with_bios['bio'].apply(lambda x: len(x.split()))\n",
    "\n",
    "\n",
    "# Prepare the data for regression\n",
    "X = users_with_bios['bio_word_count']  # Independent variable\n",
    "y = users_with_bios['followers']        # Dependent variable\n",
    "\n",
    "# Add a constant to the independent variable for the regression\n",
    "X = sm.add_constant(X)\n",
    "\n",
    "# Fit the regression model\n",
    "model = sm.OLS(y, X).fit()\n",
    "\n",
    "# Get the regression slope (coefficient for bio_word_count)\n",
    "slope = model.params['bio_word_count']\n",
    "\n",
    "# Print the slope rounded to three decimal places\n",
    "print(f'Regression slope of followers on bio word count: {slope:.3f}')\n"
   ]
  },
  {
   "cell_type": "code",
   "execution_count": 36,
   "metadata": {
    "colab": {
     "base_uri": "https://localhost:8080/"
    },
    "id": "69dBDEpH3DXl",
    "outputId": "c1dc016b-b3e7-4b67-c40f-e16ecda45a9c"
   },
   "outputs": [
    {
     "name": "stdout",
     "output_type": "stream",
     "text": [
      "Top 5 users who created the most repositories on weekends: janpio, denisdefreyne, MohamedMesto, PurpleBooth, generall\n"
     ]
    }
   ],
   "source": [
    "#Q14\n",
    "import pandas as pd\n",
    "\n",
    "# Load the repositories data from the CSV file\n",
    "repos_df = pd.read_csv('repositories.csv')\n",
    "\n",
    "# Convert the created_at column to datetime\n",
    "repos_df['created_at'] = pd.to_datetime(repos_df['created_at'])\n",
    "\n",
    "# Filter for weekend days (Saturday: 5, Sunday: 6)\n",
    "weekend_repos = repos_df[repos_df['created_at'].dt.dayofweek.isin([5, 6])]\n",
    "\n",
    "# Count the number of repositories created by each user\n",
    "top_users = weekend_repos['login'].value_counts().head(5)\n",
    "\n",
    "# Get the top 5 users' logins in order\n",
    "top_users_logins = ', '.join(top_users.index)\n",
    "\n",
    "# Print the result\n",
    "print(f'Top 5 users who created the most repositories on weekends: {top_users_logins}')\n"
   ]
  },
  {
   "cell_type": "code",
   "execution_count": 37,
   "metadata": {
    "colab": {
     "base_uri": "https://localhost:8080/"
    },
    "id": "ozqOj5bd3DWQ",
    "outputId": "2418eea9-85ef-42a3-d521-51e58e563aba"
   },
   "outputs": [
    {
     "name": "stdout",
     "output_type": "stream",
     "text": [
      "Difference in fraction of users with email: -0.008\n"
     ]
    }
   ],
   "source": [
    "#Q15\n",
    "import pandas as pd\n",
    "\n",
    "# Load the users data from the CSV file\n",
    "users_df = pd.read_csv('users.csv')\n",
    "\n",
    "# Total number of users\n",
    "total_users = len(users_df)\n",
    "\n",
    "# Filter hireable and non-hireable users\n",
    "hireable_users = users_df[users_df['hireable'] == True]\n",
    "non_hireable_users = users_df[users_df['hireable'].isna() | (users_df['hireable'] == False)]\n",
    "\n",
    "# Calculate the fraction of users with email in both groups\n",
    "fraction_hireable_with_email = hireable_users['email'].notna().mean()\n",
    "fraction_non_hireable_with_email = non_hireable_users['email'].notna().mean()\n",
    "\n",
    "# Calculate the difference\n",
    "difference = fraction_hireable_with_email - fraction_non_hireable_with_email\n",
    "\n",
    "# Print the result rounded to three decimal places\n",
    "print(f'Difference in fraction of users with email: {difference:.3f}')\n"
   ]
  },
  {
   "cell_type": "code",
   "execution_count": 26,
   "metadata": {
    "colab": {
     "base_uri": "https://localhost:8080/"
    },
    "id": "6MCRKTWM3eGI",
    "outputId": "7caf6b1e-424a-423b-8793-fdc5aa551ce3"
   },
   "outputs": [
    {
     "name": "stdout",
     "output_type": "stream",
     "text": [
      "Most common surname(s): Schneider\n",
      "Number of users with the most common surname: 3\n"
     ]
    },
    {
     "name": "stderr",
     "output_type": "stream",
     "text": [
      "C:\\Users\\ABC\\AppData\\Local\\Temp\\ipykernel_1848\\2579288886.py:11: SettingWithCopyWarning: \n",
      "A value is trying to be set on a copy of a slice from a DataFrame.\n",
      "Try using .loc[row_indexer,col_indexer] = value instead\n",
      "\n",
      "See the caveats in the documentation: https://pandas.pydata.org/pandas-docs/stable/user_guide/indexing.html#returning-a-view-versus-a-copy\n",
      "  valid_users['surname'] = valid_users['name'].str.strip().str.split().str[-1]\n"
     ]
    }
   ],
   "source": [
    "#Q16\n",
    "import pandas as pd\n",
    "\n",
    "# Load the users data from the CSV file\n",
    "users_df = pd.read_csv('users.csv')\n",
    "\n",
    "# Filter out users without names\n",
    "valid_users = users_df[users_df['name'].notna()]\n",
    "\n",
    "# Extract surnames (last word in name)\n",
    "valid_users['surname'] = valid_users['name'].str.strip().str.split().str[-1]\n",
    "\n",
    "# Count occurrences of each surname\n",
    "surname_counts = valid_users['surname'].value_counts()\n",
    "\n",
    "# Find the most common surname(s)\n",
    "max_count = surname_counts.max()\n",
    "most_common_surnames = surname_counts[surname_counts == max_count].index.tolist()\n",
    "\n",
    "# Sort surnames alphabetically\n",
    "most_common_surnames.sort()\n",
    "\n",
    "# Count users with the most common surname\n",
    "number_of_users = max_count\n",
    "\n",
    "# Print results\n",
    "most_common_surnames_str = ', '.join(most_common_surnames)\n",
    "print(f'Most common surname(s): {most_common_surnames_str}')\n",
    "print(f'Number of users with the most common surname: {number_of_users}')\n"
   ]
  },
  {
   "cell_type": "markdown",
   "metadata": {
    "id": "hYYOmo-ND2ep"
   },
   "source": [
    "Wrong Answers In Q11, 12, 15 > because In Original Files, Booleans are True/False . We have to upload Booleans as true/false in github repo. Run Scripts below and then upload resulting files to github."
   ]
  },
  {
   "cell_type": "code",
   "execution_count": null,
   "metadata": {
    "id": "ICA9p7MoNx23"
   },
   "outputs": [],
   "source": []
  },
  {
   "cell_type": "code",
   "execution_count": 54,
   "metadata": {
    "colab": {
     "base_uri": "https://localhost:8080/"
    },
    "id": "AHb14gzTJIXy",
    "outputId": "91c6a15f-1dae-4b85-8ee5-3a41cd6e3c71"
   },
   "outputs": [
    {
     "name": "stdout",
     "output_type": "stream",
     "text": [
      "         login                           full_name            created_at  \\\n",
      "0  krishnaik06  krishnaik06/Polars-GPU-Engine-Demo  2024-10-28T08:42:45Z   \n",
      "1  krishnaik06  krishnaik06/Transformers-Materials  2024-10-19T15:43:30Z   \n",
      "2  krishnaik06              krishnaik06/ETLWeather  2024-10-15T10:45:09Z   \n",
      "3  krishnaik06                krishnaik06/datasets  2024-10-08T05:16:12Z   \n",
      "4  krishnaik06             krishnaik06/testdagshub  2024-10-01T16:57:42Z   \n",
      "\n",
      "   stargazers_count  watchers_count          language  has_projects  has_wiki  \\\n",
      "0                 1               1  Jupyter Notebook          True      True   \n",
      "1                10              10               NaN          True      True   \n",
      "2                 9               9            Python          True      True   \n",
      "3                 3               3               NaN          True      True   \n",
      "4                 0               0               NaN          True      True   \n",
      "\n",
      "  license_name  \n",
      "0      gpl-3.0  \n",
      "1      gpl-3.0  \n",
      "2      gpl-3.0  \n",
      "3      gpl-3.0  \n",
      "4          NaN  \n",
      "         login                           full_name            created_at  \\\n",
      "0  krishnaik06  krishnaik06/Polars-GPU-Engine-Demo  2024-10-28T08:42:45Z   \n",
      "1  krishnaik06  krishnaik06/Transformers-Materials  2024-10-19T15:43:30Z   \n",
      "2  krishnaik06              krishnaik06/ETLWeather  2024-10-15T10:45:09Z   \n",
      "3  krishnaik06                krishnaik06/datasets  2024-10-08T05:16:12Z   \n",
      "4  krishnaik06             krishnaik06/testdagshub  2024-10-01T16:57:42Z   \n",
      "\n",
      "   stargazers_count  watchers_count          language has_projects has_wiki  \\\n",
      "0                 1               1  Jupyter Notebook         true     true   \n",
      "1                10              10               NaN         true     true   \n",
      "2                 9               9            Python         true     true   \n",
      "3                 3               3               NaN         true     true   \n",
      "4                 0               0               NaN         true     true   \n",
      "\n",
      "  license_name  \n",
      "0      gpl-3.0  \n",
      "1      gpl-3.0  \n",
      "2      gpl-3.0  \n",
      "3      gpl-3.0  \n",
      "4          NaN  \n",
      "Updated CSV file saved successfully.\n"
     ]
    }
   ],
   "source": [
    "\n",
    "repositories_df = pd.read_csv('repositories.csv')\n",
    "\n",
    "# Check the data types and structure\n",
    "print(repositories_df.head())\n",
    "\n",
    "# Replace True/False with true/false\n",
    "repositories_df['has_projects'] = repositories_df['has_projects'].replace({True: 'true', False: 'false'})\n",
    "repositories_df['has_wiki'] = repositories_df['has_wiki'].replace({True: 'true', False: 'false'})\n",
    "\n",
    "# Save the modified DataFrame back to the same CSV file\n",
    "repositories_df.to_csv('repositories.csv', index=False)\n",
    "\n",
    "# Check the data types and structure\n",
    "print(repositories_df.head())\n",
    "\n",
    "print(\"Updated CSV file saved successfully.\")\n"
   ]
  },
  {
   "cell_type": "code",
   "execution_count": 53,
   "metadata": {
    "colab": {
     "base_uri": "https://localhost:8080/"
    },
    "id": "TcHTWbzuJVDX",
    "outputId": "89c50de0-fbab-4f1d-edbe-8260fa3c88d2"
   },
   "outputs": [
    {
     "name": "stdout",
     "output_type": "stream",
     "text": [
      "             login           name          company          location  \\\n",
      "0      krishnaik06   Krish C Naik    PANASONIC IIC         Bangalore   \n",
      "1  championswimmer    Arnav Gupta        JIOCINEMA  Bangalore, India   \n",
      "2    arpitbbhayani  Arpit Bhayani           DICEDB         Bangalore   \n",
      "3    manjunath5496    Manjunath.R  MYW3SCHOOLS.COM  Bangalore, India   \n",
      "4      tanaypratap   Tanay Pratap           INVACT  Bangalore, India   \n",
      "\n",
      "                     email hireable  \\\n",
      "0    krishnaik06@gmail.com      NaN   \n",
      "1   dev@championswimmer.in     True   \n",
      "2                      NaN     True   \n",
      "3  manjunath5496@gmail.com      NaN   \n",
      "4      tanay.mit@gmail.com      NaN   \n",
      "\n",
      "                                                 bio  public_repos  followers  \\\n",
      "0  Data Scientist with ML and Deep  Learning expe...           330      30906   \n",
      "1  Director of Engineering - @JioCinema ┃\\r\\nPast...           351       4661   \n",
      "2  Creator of @DiceDB • ex-Google Dataproc, ex-Am...           188       4557   \n",
      "3  \"Science is not only a disciple of reason but,...          1563       4084   \n",
      "4         Founder & CEO @invact . Teacher @neogcamp             40       3029   \n",
      "\n",
      "   following            created_at  \n",
      "0          0  2016-06-20T09:25:45Z  \n",
      "1         29  2012-01-13T07:41:40Z  \n",
      "2          3  2013-06-20T06:40:12Z  \n",
      "3       9313  2016-06-16T05:02:32Z  \n",
      "4          1  2014-12-17T05:15:06Z  \n",
      "             login           name          company          location  \\\n",
      "0      krishnaik06   Krish C Naik    PANASONIC IIC         Bangalore   \n",
      "1  championswimmer    Arnav Gupta        JIOCINEMA  Bangalore, India   \n",
      "2    arpitbbhayani  Arpit Bhayani           DICEDB         Bangalore   \n",
      "3    manjunath5496    Manjunath.R  MYW3SCHOOLS.COM  Bangalore, India   \n",
      "4      tanaypratap   Tanay Pratap           INVACT  Bangalore, India   \n",
      "\n",
      "                     email hireable  \\\n",
      "0    krishnaik06@gmail.com      NaN   \n",
      "1   dev@championswimmer.in     true   \n",
      "2                      NaN     true   \n",
      "3  manjunath5496@gmail.com      NaN   \n",
      "4      tanay.mit@gmail.com      NaN   \n",
      "\n",
      "                                                 bio  public_repos  followers  \\\n",
      "0  Data Scientist with ML and Deep  Learning expe...           330      30906   \n",
      "1  Director of Engineering - @JioCinema ┃\\r\\nPast...           351       4661   \n",
      "2  Creator of @DiceDB • ex-Google Dataproc, ex-Am...           188       4557   \n",
      "3  \"Science is not only a disciple of reason but,...          1563       4084   \n",
      "4         Founder & CEO @invact . Teacher @neogcamp             40       3029   \n",
      "\n",
      "   following            created_at  \n",
      "0          0  2016-06-20T09:25:45Z  \n",
      "1         29  2012-01-13T07:41:40Z  \n",
      "2          3  2013-06-20T06:40:12Z  \n",
      "3       9313  2016-06-16T05:02:32Z  \n",
      "4          1  2014-12-17T05:15:06Z  \n",
      "Updated CSV file saved successfully.\n"
     ]
    }
   ],
   "source": [
    "users_df = pd.read_csv('users.csv')\n",
    "\n",
    "# Check the data types and structure\n",
    "print(users_df.head())\n",
    "\n",
    "# Replace True/False with true/false in the hireable column\n",
    "users_df['hireable'] = users_df['hireable'].replace({True: 'true', False: 'false'})\n",
    "\n",
    "# Save the modified DataFrame back to the same CSV file\n",
    "users_df.to_csv('users.csv', index=False)\n",
    "\n",
    "# Check the data types and structure\n",
    "print(users_df.head())\n",
    "\n",
    "\n",
    "print(\"Updated CSV file saved successfully.\")\n",
    "\n"
   ]
  }
 ],
 "metadata": {
  "colab": {
   "provenance": []
  },
  "kernelspec": {
   "display_name": "Python 3",
   "name": "python3"
  },
  "language_info": {
   "codemirror_mode": {
    "name": "ipython",
    "version": 3
   },
   "file_extension": ".py",
   "mimetype": "text/x-python",
   "name": "python",
   "nbconvert_exporter": "python",
   "pygments_lexer": "ipython3",
   "version": "3.11.9"
  }
 },
 "nbformat": 4,
 "nbformat_minor": 0
}
